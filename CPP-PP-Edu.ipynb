{
 "cells": [
  {
   "cell_type": "markdown",
   "metadata": {},
   "source": [
    "# C++ Programming - Principles and Practice Educational Resources\n",
    "\n",
    "### @Copyright Prof. George Papagiannakis \n",
    "\n",
    "#### 2012-today, University of Crete & ICS-FORTH \n",
    "---"
   ]
  },
  {
   "cell_type": "markdown",
   "metadata": {},
   "source": [
    "## Course description\n",
    "This course targets undergraduate students of the computer science department of the University of Crete, that have already attended HY100 (Introduction to computer science).\n",
    "\n",
    "> Main aim of this course is to build on the basic principles of programming: design, implementation, correction and articulation of complete s/w programs, based on the C++ programming language. \n",
    "\n",
    "Special focus is ginen to functional, object-oriented as well as template programming: basic types, variables, pointers, classes, virtual functions, method and operator overloading, inheritance, templates, data streams and the standard template library of C++. \n",
    "\n",
    "This course contains a series of lectures, supervised laboratories and assignments. \n",
    "\n",
    "It is using as main textbook the book of Bjarne Stroustrup, \"Programming: Principles and Practice Using C++\" (2nd edition, Addison-Wesley, 2014) for which resources are available at the [book's website](https://www.stroustrup.com/programming.html). \n",
    "\n",
    "We are also using as motivating examples for visual programming using C++ the following resources:\n",
    "- the [FLTK](http://www.fltk.org/) library for GUI programming\n",
    "- the [Raytracing in One Weekend](https://raytracing.github.io/books/RayTracingInOneWeekend.html) book by Peter Shirley\n",
    "\n",
    "---"
   ]
  },
  {
   "cell_type": "markdown",
   "metadata": {},
   "source": [
    "## Course objectives\n",
    "- Understand the basic principles of programming: design, implementation, correction and articulation of complete s/w programs\n",
    "- Understand the basic principles of the C++ programming language\n",
    "- Understand the basic principles of functional, object-oriented and template programming\n",
    "- Understand the basic principles of the standard template library of C++\n",
    "- Understand the basic principles and notions of modern scientific programming, via motivating visual computing examples using C++ and the raytring principle for high fidelity image generation\n",
    "- Understand the basic principles of visual programming using C++ and the FLTK library "
   ]
  },
  {
   "cell_type": "markdown",
   "metadata": {},
   "source": [
    "## Course outline\n",
    "- Introduction to C++ programming    \n",
    "- Basic types, variables, and constants\n",
    "- Operators and expressions\n",
    "- Control structures\n",
    "- Functions\n",
    "- Recursion\n",
    "- Pointers and references\n",
    "- Vectors and arrays\n",
    "- Exception handling\n",
    "- Input/output streams\n",
    "- Raytracing as visual computing example\n",
    "- Classes and objects\n",
    "- Templates\n",
    "- Standard library\n",
    "- FLTK library for GUI programming"
   ]
  },
  {
   "cell_type": "markdown",
   "metadata": {},
   "source": [
    "## Course Values\n",
    "- Be kind. \n",
    "- Be humane. \n",
    "- Meet someone new. \n",
    "- Explore. \n",
    "- Experiment. \n",
    "- Learn by doing. \n",
    "- Adapt to new contexts."
   ]
  },
  {
   "cell_type": "markdown",
   "metadata": {},
   "source": [
    "## Course Requirements\n",
    "- Attend lectures and participate in class discussions\n",
    "- Complete all assignments and projects\n",
    "- Take all exams\n",
    "- Read and understand the course material\n",
    "- Ask questions and seek help when needed"
   ]
  },
  {
   "cell_type": "markdown",
   "metadata": {},
   "source": [
    "## Courseware recommended books\n",
    "\n",
    "* Based on the course book by Bjarne Stroustrup: <https://www.stroustrup.com/programming.html>.\n",
    "> However, we heavily optimized the pre-existing material for full **true cross-plataform development** with **visual studio code** and **CMake** for this course. \n",
    "- GUI and `FLTK` programming has often been a pain point for early CS students to setup across different operating systems and IDEs and `CMake` makes this far easier.\n",
    "- `vscode` is a very popular and lightweight IDE that is easy to use and setup across different operating systems, as well as being very popular in the industry."
   ]
  },
  {
   "cell_type": "markdown",
   "metadata": {},
   "source": [
    "## Course notes, assignments\n",
    "\n",
    "* all under the elearn platform of the University of Crete"
   ]
  },
  {
   "cell_type": "markdown",
   "metadata": {},
   "source": [
    "## General Coding Information/Requirements\n",
    "\n",
    "### Hardware Requirements\n",
    "- Windows10,Windows11, Linux, MacOS\n",
    "\n",
    "### Software Requirements:\n",
    "\n",
    "* CMake Minimum version required 3.5\n",
    "Download the latest one for your platform from : <https://cmake.org/download/>\n",
    "\n",
    "* Visual Studio Code\n",
    "Download Visual Studio (VS) Code from : <https://code.visualstudio.com> with all C++, CMake and CMake Tools extensions installed.\n",
    "\n",
    "- Most updated Course site is available each year/semester at: http://elearn.uoc.gr"
   ]
  },
  {
   "cell_type": "markdown",
   "metadata": {},
   "source": [
    "## How to build directly the course-examples (terminal)\n",
    "\n",
    "* from your terminal, switch to: `Code/Programming-code/`\n",
    "* open visual studio code in this folder: `code .`\n",
    "- Either **follow the cmake visual studio code extension instructions to build the project** or:\n",
    "    - make a build folder: `mkdir build`\n",
    "    - switch to the build folder: `cd build`\n",
    "    - run cmake: `cmake ..`\n",
    "    - build all projects: `cmake --build .`"
   ]
  },
  {
   "cell_type": "markdown",
   "metadata": {},
   "source": [
    "\n",
    "## How to build and run the course-examples (CMake Extension)\n",
    "\n",
    "* From your VS Code, click on the CMake extension on your left tab. (image 1)\n",
    "\n",
    "* From the PROJECT STATUS window hover over the Build area and select the Build button. (image 2)\n",
    "\n",
    "* After selecting the target example, you can run it by selecting run in terminal by hovering the Launch area. (image 3)\n",
    "\n",
    "![CmakeExtension](./Resources/Images/How_To_Build_Examples/CMake_Extension.png) ![BuildAll](./Resources/Images/How_To_Build_Examples/Build_All_Examples.png) ![BuildAll](./Resources/Images/How_To_Build_Examples/RunExample.png) "
   ]
  },
  {
   "cell_type": "markdown",
   "metadata": {},
   "source": [
    "## How to use the C++ debugger (CMake Extension)\n",
    "\n",
    "* Select the target you want to debug. The target can also be inspected on the project outline window. (image 1 & 2)\n",
    "\n",
    "* Place a breakpoint on the line that the programm needs to \"break\", by clicking on the left of that line. You will see a red dot. (image 3)\n",
    "\n",
    "![SetTarget](./Resources/Images/How_To_Debug/SetTarget1.png) ![SetTarget2](./Resources/Images/How_To_Debug/SetTarget2.png) ![Breakpoint](./Resources/Images/How_To_Debug/AddBreakPoint.png)\n",
    "\n",
    "* Run the program with the debugger by pressing the CMake tools debugger. (image 4)\n",
    "\n",
    "* You will notice that the program has executed until your breakpoint. On the left window you will be able to see the state of all your variables. (image 5)\n",
    "\n",
    "![PressDebug](./Resources/Images/How_To_Debug/PressDebug.png) ![BreakHit](./Resources/Images/How_To_Debug/BreakHit.png) \n",
    "\n",
    "* By using the debugging options provided from the debugger you can continue until the next breakpoint, skip the current code-block or simply go to the next line. (image 6).\n",
    "\n",
    "* NOTE: If your program needs some input from the user to run (e.g. cin), you will have to provide the input from the DEBUG CONSOLE. (image 7)\n",
    "\n",
    "![DebuggingOptions](./Resources/Images/How_To_Debug/DebuggingOptions.png) ![CIN](./Resources/Images/How_To_Debug/CIN_Issue.png) \n",
    "\n"
   ]
  },
  {
   "cell_type": "markdown",
   "metadata": {},
   "source": [
    "## Folder guide\n",
    "\n",
    "The whole project directory structure is as follows:\n",
    "\n",
    "- .gitignore  <- Github files to ignore\n",
    "- CPP-PP.ipynb <- Main course Jupyter notebook\n",
    "- Resources \n",
    "    - Code                      <- Sample base course code and examples \n",
    "    - Docs                      <- extra documentation\n",
    "    - Images                    <- images for the course\n",
    "    - Notebooks                 <- other Jupyter notebooks for the course\n",
    "- LICENSE                       <- License file\n",
    "- README.md                    <- The top-level README for this project\n",
    "\n",
    "* `Code/Programming-code`: here are our main courseware examples per chapter. Run in this folder visual studio and will use a multi-folder CMakeLists.txt to build several of the Chapter02 and Chapter12 examples, including the FLTK and GUI libs\n",
    "    * `Code/Programming-code/_helloWorld_single_cmake`: the hello world example with a single CMakeLists.txt (run visual studio code in this folder to show it as a simple example to students)\n",
    "    - `Code/Programming-code/_helloWorld_multi_cmake`: the hello world example with a multi-folder CMakeLists.txt (run visual studio code in this folder to show it as a simple example to students)\n",
    "    - `Code/Programming-code/_helloWorld_raytracing`: the hello world example with a raytracing example (run visual studio code in this folder to show it as a simple example to students)\n",
    "    - `Code/Programming-code/_helloWorld_fltk_gui_chapter12`: the hello world example with a FLTK example \n",
    "    "
   ]
  },
  {
   "cell_type": "markdown",
   "metadata": {},
   "source": [
    "## Sample course schedule and timeline\n",
    "\n",
    "| Lecture                               | Week      |  Activities, Labs, Exams                         | Assignments |\n",
    "| :-----------                          | :-----:   | :-------:                                        | -------: |\n",
    "| HY150-1_IntroToProgramming            | Week1     | *Course Start*                                   |  |\n",
    "| HY150-2_Types I                       | Week1     |                                                  |  | \n",
    "| HY150-2_Types II                      | Week2     | *Lab0.1: setup base code and tools*              |  |\n",
    "| HY150-3_Computation                   | Week2     |                                                  | *Assignment1: procedural programming* |\n",
    "| HY150-4_Errors                        | Week3     |                                                  | |\n",
    "| HY150-7_Functions                     | Week3     | *Lab1*                                           |  |\n",
    "| HY150-7_Functions II                  | Week4     |                                                  | |\n",
    "| HY150-8_Classes I                     | Week4     |                                                  | *Assignment1: deadline*   |\n",
    "| HY150-8_Classes II                    | Week5     | *Oral exams Assignment1*                         | |\n",
    "| HY150-9_IOStreams                     | Week5     |                                                  | *Assignment2: Object-oriented programming* |\n",
    "| HY150-10_CustomIO                     | Week6     |                                                  | |\n",
    "| HY150-11_Display                      | Week6     | *Lab2*                                           |  |\n",
    "| HY150-12_GrapClasses I                | Week7     |                                                  | |\n",
    "| HY150-12_GrapClasses II               | Week7     |                                                  | *Assignment2: deadline*   |\n",
    "| HY150-13_ClassDesign                  | Week8     | *Oral exams Assignment2*                         | |\n",
    "| HY150-13_ClassDesign II               | Week8     |                                                 | *Assignment3: in-between written exam*  |\n",
    "| HY150-14_GUI                          | Week9     |                                                  | |\n",
    "| HY150-15_FreeStore                    | Week9     |                                                  | |\n",
    "| HY150-16_Arrays                       | Week10    |                                                  |\n",
    "| HY150-17_Templates&Exceptions I       | Week10    |                                                  | *Assignment4: GUI Programming* |\n",
    "| HY150-17_Templates&Exceptions II      | Week11    |   *Lab4-1*                                       | \n",
    "| HY150-18_Containers                   | Week11    |                                                  |\n",
    "| HY150-18_Containers II                | Week12    |           *Lab4-2*                               |\n",
    "| HY150-19_Algorithms                   | Week12    |                                                  | *Assignment4: deadline*\n",
    "| HY150-23_C                            | Week13    |  *Oral exams Assignment 4*                       | |\n",
    "| Course Revision                       | Week13    | *Bonus Quizz & Lectures End*                     |  |\n"
   ]
  },
  {
   "cell_type": "markdown",
   "metadata": {},
   "source": [
    "# Online Resources\n",
    "\n",
    "## Recommended books:\n",
    "- Stroustrup, B. Programming: Principles and Practice Using C++ (2nd Edition). Pearson Education 1–1188 (2014).\n",
    "        - https://chenweixiang.github.io/docs/Programming--Principles_and_Practice_Using_C++_2nd_Edition.pdf\n",
    "    -  Stroustrup, B. The C++ Programming Language 4th Edition.\n",
    "        - https://chenweixiang.github.io/docs/The_C++_Programming_Language_4th_Edition_Bjarne_Stroustrup.pdf\n",
    "        - https://github.com/Jtaim/Programming-Principles-and-Practice-Using-Cpp\n",
    "    - Programming Abstractions in C++, Eric Roberts, Stanford University\n",
    "        - https://web.stanford.edu/dept/cs_edu/resources/textbook/Reader-Beta-2012.pdf\n",
    "        - https://www.cas.mcmaster.ca/~qiao/courses/cs2so3/textbook/ProgAbs.pdf\n",
    "    - Tools and other references: \n",
    "        - https://chenweixiang.github.io/2022/10/04/visual-studio-code.html\n",
    "        - https://en.cppreference.com/w/Main_Page\n",
    "    - Ray tracing in C++\n",
    "        - https://github.com/RayTracing/raytracing.github.io\n",
    "    - Vscode videos\n",
    "        - https://www.youtube.com/@code/videos\n",
    "    \n",
    "\n"
   ]
  }
 ],
 "metadata": {
  "kernelspec": {
   "display_name": "Python 3",
   "language": "python",
   "name": "python3"
  },
  "language_info": {
   "codemirror_mode": {
    "name": "ipython",
    "version": 3
   },
   "file_extension": ".py",
   "mimetype": "text/x-python",
   "name": "python",
   "nbconvert_exporter": "python",
   "pygments_lexer": "ipython3",
   "version": "3.8.18"
  }
 },
 "nbformat": 4,
 "nbformat_minor": 2
}
